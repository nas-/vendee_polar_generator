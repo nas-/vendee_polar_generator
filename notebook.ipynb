{
 "cells": [
  {
   "cell_type": "code",
   "execution_count": 34,
   "metadata": {
    "collapsed": true
   },
   "outputs": [],
   "source": [
    "import pandas as pd\n",
    "from data_provider import DataProvider\n",
    "import numpy as np"
   ]
  },
  {
   "cell_type": "code",
   "execution_count": 2,
   "outputs": [],
   "source": [
    "data=DataProvider()"
   ],
   "metadata": {
    "collapsed": false,
    "pycharm": {
     "name": "#%%\n"
    }
   }
  },
  {
   "cell_type": "code",
   "execution_count": 7,
   "outputs": [
    {
     "data": {
      "text/plain": "                       BSP         TWA        TWS      adjTWA\n2021-06-01 07:45:45  0.718   -0.023187   8.311917    0.023187\n2021-06-01 07:46:35  1.424    0.035868   7.528591    0.035868\n2021-02-08 14:51:15  2.424   -0.074437  14.524940    0.074437\n2021-06-02 11:41:10  2.088    0.078632   8.785691    0.078632\n2021-06-02 07:53:30  1.234    0.092154  11.253189    0.092154\n...                    ...         ...        ...         ...\n2021-06-02 11:34:30  4.126  179.300344   9.986638  179.300344\n2021-06-02 11:35:45  4.254 -179.384010  11.643191  179.384010\n2021-05-31 15:00:25  4.700  179.427890   5.116968  179.427890\n2021-05-31 15:01:20  4.672  179.449560   5.007625  179.449560\n2021-06-02 11:35:10  4.124  179.564258  10.366319  179.564258\n\n[483128 rows x 4 columns]",
      "text/html": "<div>\n<style scoped>\n    .dataframe tbody tr th:only-of-type {\n        vertical-align: middle;\n    }\n\n    .dataframe tbody tr th {\n        vertical-align: top;\n    }\n\n    .dataframe thead th {\n        text-align: right;\n    }\n</style>\n<table border=\"1\" class=\"dataframe\">\n  <thead>\n    <tr style=\"text-align: right;\">\n      <th></th>\n      <th>BSP</th>\n      <th>TWA</th>\n      <th>TWS</th>\n      <th>adjTWA</th>\n    </tr>\n  </thead>\n  <tbody>\n    <tr>\n      <th>2021-06-01 07:45:45</th>\n      <td>0.718</td>\n      <td>-0.023187</td>\n      <td>8.311917</td>\n      <td>0.023187</td>\n    </tr>\n    <tr>\n      <th>2021-06-01 07:46:35</th>\n      <td>1.424</td>\n      <td>0.035868</td>\n      <td>7.528591</td>\n      <td>0.035868</td>\n    </tr>\n    <tr>\n      <th>2021-02-08 14:51:15</th>\n      <td>2.424</td>\n      <td>-0.074437</td>\n      <td>14.524940</td>\n      <td>0.074437</td>\n    </tr>\n    <tr>\n      <th>2021-06-02 11:41:10</th>\n      <td>2.088</td>\n      <td>0.078632</td>\n      <td>8.785691</td>\n      <td>0.078632</td>\n    </tr>\n    <tr>\n      <th>2021-06-02 07:53:30</th>\n      <td>1.234</td>\n      <td>0.092154</td>\n      <td>11.253189</td>\n      <td>0.092154</td>\n    </tr>\n    <tr>\n      <th>...</th>\n      <td>...</td>\n      <td>...</td>\n      <td>...</td>\n      <td>...</td>\n    </tr>\n    <tr>\n      <th>2021-06-02 11:34:30</th>\n      <td>4.126</td>\n      <td>179.300344</td>\n      <td>9.986638</td>\n      <td>179.300344</td>\n    </tr>\n    <tr>\n      <th>2021-06-02 11:35:45</th>\n      <td>4.254</td>\n      <td>-179.384010</td>\n      <td>11.643191</td>\n      <td>179.384010</td>\n    </tr>\n    <tr>\n      <th>2021-05-31 15:00:25</th>\n      <td>4.700</td>\n      <td>179.427890</td>\n      <td>5.116968</td>\n      <td>179.427890</td>\n    </tr>\n    <tr>\n      <th>2021-05-31 15:01:20</th>\n      <td>4.672</td>\n      <td>179.449560</td>\n      <td>5.007625</td>\n      <td>179.449560</td>\n    </tr>\n    <tr>\n      <th>2021-06-02 11:35:10</th>\n      <td>4.124</td>\n      <td>179.564258</td>\n      <td>10.366319</td>\n      <td>179.564258</td>\n    </tr>\n  </tbody>\n</table>\n<p>483128 rows × 4 columns</p>\n</div>"
     },
     "execution_count": 7,
     "metadata": {},
     "output_type": "execute_result"
    }
   ],
   "source": [
    "df=data.data\n",
    "df"
   ],
   "metadata": {
    "collapsed": false,
    "pycharm": {
     "name": "#%%\n"
    }
   }
  },
  {
   "cell_type": "code",
   "execution_count": 15,
   "outputs": [
    {
     "data": {
      "text/plain": "          BSP        TWS      adjTWA\n0       0.718   8.311917    0.023187\n1       1.424   7.528591    0.035868\n2       2.424  14.524940    0.074437\n3       2.088   8.785691    0.078632\n4       1.234  11.253189    0.092154\n...       ...        ...         ...\n483123  4.126   9.986638  179.300344\n483124  4.254  11.643191  179.384010\n483125  4.700   5.116968  179.427890\n483126  4.672   5.007625  179.449560\n483127  4.124  10.366319  179.564258\n\n[483128 rows x 3 columns]",
      "text/html": "<div>\n<style scoped>\n    .dataframe tbody tr th:only-of-type {\n        vertical-align: middle;\n    }\n\n    .dataframe tbody tr th {\n        vertical-align: top;\n    }\n\n    .dataframe thead th {\n        text-align: right;\n    }\n</style>\n<table border=\"1\" class=\"dataframe\">\n  <thead>\n    <tr style=\"text-align: right;\">\n      <th></th>\n      <th>BSP</th>\n      <th>TWS</th>\n      <th>adjTWA</th>\n    </tr>\n  </thead>\n  <tbody>\n    <tr>\n      <th>0</th>\n      <td>0.718</td>\n      <td>8.311917</td>\n      <td>0.023187</td>\n    </tr>\n    <tr>\n      <th>1</th>\n      <td>1.424</td>\n      <td>7.528591</td>\n      <td>0.035868</td>\n    </tr>\n    <tr>\n      <th>2</th>\n      <td>2.424</td>\n      <td>14.524940</td>\n      <td>0.074437</td>\n    </tr>\n    <tr>\n      <th>3</th>\n      <td>2.088</td>\n      <td>8.785691</td>\n      <td>0.078632</td>\n    </tr>\n    <tr>\n      <th>4</th>\n      <td>1.234</td>\n      <td>11.253189</td>\n      <td>0.092154</td>\n    </tr>\n    <tr>\n      <th>...</th>\n      <td>...</td>\n      <td>...</td>\n      <td>...</td>\n    </tr>\n    <tr>\n      <th>483123</th>\n      <td>4.126</td>\n      <td>9.986638</td>\n      <td>179.300344</td>\n    </tr>\n    <tr>\n      <th>483124</th>\n      <td>4.254</td>\n      <td>11.643191</td>\n      <td>179.384010</td>\n    </tr>\n    <tr>\n      <th>483125</th>\n      <td>4.700</td>\n      <td>5.116968</td>\n      <td>179.427890</td>\n    </tr>\n    <tr>\n      <th>483126</th>\n      <td>4.672</td>\n      <td>5.007625</td>\n      <td>179.449560</td>\n    </tr>\n    <tr>\n      <th>483127</th>\n      <td>4.124</td>\n      <td>10.366319</td>\n      <td>179.564258</td>\n    </tr>\n  </tbody>\n</table>\n<p>483128 rows × 3 columns</p>\n</div>"
     },
     "execution_count": 15,
     "metadata": {},
     "output_type": "execute_result"
    }
   ],
   "source": [
    "df=df.reset_index(drop=True)\n",
    "df=df[['BSP','TWS','adjTWA']]\n",
    "df"
   ],
   "metadata": {
    "collapsed": false,
    "pycharm": {
     "name": "#%%\n"
    }
   }
  },
  {
   "cell_type": "code",
   "execution_count": 27,
   "outputs": [],
   "source": [
    "from sklearn.preprocessing import StandardScaler\n",
    "from sklearn.metrics import mean_squared_error\n",
    "from sklearn.pipeline import Pipeline\n",
    "from sklearn.model_selection import train_test_split, RandomizedSearchCV\n",
    "from sklearn.base import TransformerMixin, BaseEstimator\n",
    "from sklearn.ensemble import RandomForestRegressor\n",
    "from sklearn.compose import make_column_selector as selector\n",
    "from sklearn.decomposition import PCA\n",
    "from sklearn.compose import TransformedTargetRegressor\n",
    "from sklearn.feature_selection import SelectFromModel\n",
    "from sklearn.svm import LinearSVC\n",
    "from sklearn.linear_model import LinearRegression,RidgeCV"
   ],
   "metadata": {
    "collapsed": false,
    "pycharm": {
     "name": "#%%\n"
    }
   }
  },
  {
   "cell_type": "code",
   "execution_count": 18,
   "outputs": [],
   "source": [
    "X=df.drop('BSP',axis=1)\n",
    "y=df['BSP']"
   ],
   "metadata": {
    "collapsed": false,
    "pycharm": {
     "name": "#%%\n"
    }
   }
  },
  {
   "cell_type": "code",
   "execution_count": 69,
   "outputs": [
    {
     "data": {
      "text/plain": "<AxesSubplot:xlabel='adjTWA', ylabel='BSP'>"
     },
     "execution_count": 69,
     "metadata": {},
     "output_type": "execute_result"
    },
    {
     "data": {
      "text/plain": "<Figure size 432x288 with 2 Axes>",
      "image/png": "[encoded data removed]"
     },
     "metadata": {
      "needs_background": "light"
     },
     "output_type": "display_data"
    }
   ],
   "source": [
    "df.plot(y='BSP',x='adjTWA',c='TWS',colorbar=True,kind='scatter')"
   ],
   "metadata": {
    "collapsed": false,
    "pycharm": {
     "name": "#%%\n"
    }
   }
  },
  {
   "cell_type": "code",
   "execution_count": 20,
   "outputs": [],
   "source": [
    "SEED=0"
   ],
   "metadata": {
    "collapsed": false,
    "pycharm": {
     "name": "#%%\n"
    }
   }
  },
  {
   "cell_type": "code",
   "execution_count": 22,
   "outputs": [],
   "source": [
    "X_train_full, X_test, y_train_full, y_test = train_test_split(X, y, test_size=0.2,random_state=SEED)\n",
    "X_train, X_val, y_train, y_val = train_test_split(X_train_full, y_train_full, test_size=0.2,random_state=SEED)"
   ],
   "metadata": {
    "collapsed": false,
    "pycharm": {
     "name": "#%%\n"
    }
   }
  },
  {
   "cell_type": "code",
   "execution_count": 23,
   "outputs": [
    {
     "data": {
      "text/plain": "              TWS     adjTWA\n21010   20.064280   59.24522\n164515  14.107280   81.80594\n97876    5.412257   74.68721\n251345   6.534540  116.95350\n43417   18.047640   66.69284\n...           ...        ...\n237318  17.503800  113.47120\n189482  15.175520   91.52878\n293216   6.049192  125.59340\n18821   17.379820   58.55323\n410999  24.460130  138.83300\n\n[309201 rows x 2 columns]",
      "text/html": "<div>\n<style scoped>\n    .dataframe tbody tr th:only-of-type {\n        vertical-align: middle;\n    }\n\n    .dataframe tbody tr th {\n        vertical-align: top;\n    }\n\n    .dataframe thead th {\n        text-align: right;\n    }\n</style>\n<table border=\"1\" class=\"dataframe\">\n  <thead>\n    <tr style=\"text-align: right;\">\n      <th></th>\n      <th>TWS</th>\n      <th>adjTWA</th>\n    </tr>\n  </thead>\n  <tbody>\n    <tr>\n      <th>21010</th>\n      <td>20.064280</td>\n      <td>59.24522</td>\n    </tr>\n    <tr>\n      <th>164515</th>\n      <td>14.107280</td>\n      <td>81.80594</td>\n    </tr>\n    <tr>\n      <th>97876</th>\n      <td>5.412257</td>\n      <td>74.68721</td>\n    </tr>\n    <tr>\n      <th>251345</th>\n      <td>6.534540</td>\n      <td>116.95350</td>\n    </tr>\n    <tr>\n      <th>43417</th>\n      <td>18.047640</td>\n      <td>66.69284</td>\n    </tr>\n    <tr>\n      <th>...</th>\n      <td>...</td>\n      <td>...</td>\n    </tr>\n    <tr>\n      <th>237318</th>\n      <td>17.503800</td>\n      <td>113.47120</td>\n    </tr>\n    <tr>\n      <th>189482</th>\n      <td>15.175520</td>\n      <td>91.52878</td>\n    </tr>\n    <tr>\n      <th>293216</th>\n      <td>6.049192</td>\n      <td>125.59340</td>\n    </tr>\n    <tr>\n      <th>18821</th>\n      <td>17.379820</td>\n      <td>58.55323</td>\n    </tr>\n    <tr>\n      <th>410999</th>\n      <td>24.460130</td>\n      <td>138.83300</td>\n    </tr>\n  </tbody>\n</table>\n<p>309201 rows × 2 columns</p>\n</div>"
     },
     "execution_count": 23,
     "metadata": {},
     "output_type": "execute_result"
    }
   ],
   "source": [
    "X_train"
   ],
   "metadata": {
    "collapsed": false,
    "pycharm": {
     "name": "#%%\n"
    }
   }
  },
  {
   "cell_type": "code",
   "execution_count": 41,
   "outputs": [
    {
     "data": {
      "text/plain": "14.899000000000001"
     },
     "execution_count": 41,
     "metadata": {},
     "output_type": "execute_result"
    }
   ],
   "source": [
    "y_train.loc[344854]"
   ],
   "metadata": {
    "collapsed": false,
    "pycharm": {
     "name": "#%%\n"
    }
   }
  },
  {
   "cell_type": "code",
   "execution_count": 45,
   "outputs": [],
   "source": [
    "clf=Pipeline(\n",
    "    steps=[(\"preprocessor\", StandardScaler()), (\"regressor\", RandomForestRegressor())]\n",
    ")"
   ],
   "metadata": {
    "collapsed": false,
    "pycharm": {
     "name": "#%%\n"
    }
   }
  },
  {
   "cell_type": "code",
   "execution_count": 46,
   "outputs": [
    {
     "name": "stdout",
     "output_type": "stream",
     "text": [
      "model score: 0.953\n"
     ]
    }
   ],
   "source": [
    "clf.fit(X_train, y_train)\n",
    "print(\"model score: %.3f\" % clf.score(X_train, y_train))"
   ],
   "metadata": {
    "collapsed": false,
    "pycharm": {
     "name": "#%%\n"
    }
   }
  },
  {
   "cell_type": "code",
   "execution_count": 47,
   "outputs": [
    {
     "name": "stdout",
     "output_type": "stream",
     "text": [
      "model score: 0.661\n"
     ]
    }
   ],
   "source": [
    "print(\"model score: %.3f\" % clf.score(X_val, y_val))"
   ],
   "metadata": {
    "collapsed": false,
    "pycharm": {
     "name": "#%%\n"
    }
   }
  },
  {
   "cell_type": "code",
   "execution_count": 70,
   "outputs": [
    {
     "name": "stderr",
     "output_type": "stream",
     "text": [
      "c:\\users\\edoardo\\appdata\\local\\programs\\python\\python39\\lib\\site-packages\\sklearn\\base.py:445: UserWarning: X does not have valid feature names, but StandardScaler was fitted with feature names\n",
      "  warnings.warn(\n"
     ]
    },
    {
     "data": {
      "text/plain": "array([16.74941])"
     },
     "execution_count": 70,
     "metadata": {},
     "output_type": "execute_result"
    }
   ],
   "source": [
    "clf.predict(np.array(X_val.iloc[10]).reshape(1, -1))"
   ],
   "metadata": {
    "collapsed": false,
    "pycharm": {
     "name": "#%%\n"
    }
   }
  },
  {
   "cell_type": "code",
   "execution_count": 71,
   "outputs": [],
   "source": [
    "from tensorflow import keras"
   ],
   "metadata": {
    "collapsed": false,
    "pycharm": {
     "name": "#%%\n"
    }
   }
  },
  {
   "cell_type": "code",
   "execution_count": 73,
   "outputs": [],
   "source": [
    "imp_shape=(2,1)"
   ],
   "metadata": {
    "collapsed": false,
    "pycharm": {
     "name": "#%%\n"
    }
   }
  },
  {
   "cell_type": "code",
   "execution_count": 137,
   "outputs": [],
   "source": [
    "keras.backend.clear_session()\n",
    "inputs = keras.Input(shape=imp_shape)\n",
    "output1 = keras.layers.Dense(64, activation='relu')(inputs)\n",
    "output1 = keras.layers.Dense(32, activation='relu')(output1)\n",
    "output1 = keras.layers.Dense(32, activation='relu')(output1)\n",
    "output1 = keras.layers.Dense(32, activation='relu')(output1)\n",
    "output1 = keras.layers.Dense(16, activation='relu')(output1)\n",
    "output1 = keras.layers.Dense(16, activation='relu')(output1)\n",
    "output1 = keras.layers.Dense(1)(output1)\n",
    "model=keras.Model(inputs=inputs, outputs=output1)\n",
    "\n",
    "optimizer = keras.optimizers.Adam(learning_rate=1e-3)\n",
    "model.compile(optimizer=optimizer, loss='mean_squared_error',metrics=['mean_absolute_error'])"
   ],
   "metadata": {
    "collapsed": false,
    "pycharm": {
     "name": "#%%\n"
    }
   }
  },
  {
   "cell_type": "code",
   "execution_count": 138,
   "outputs": [
    {
     "name": "stdout",
     "output_type": "stream",
     "text": [
      "Epoch 1/50\n",
      "9663/9663 [==============================] - 10s 978us/step - loss: 32.3387 - mean_absolute_error: 4.1827\n",
      "Epoch 2/50\n",
      "9663/9663 [==============================] - 9s 968us/step - loss: 15.8482 - mean_absolute_error: 3.0513\n",
      "Epoch 3/50\n",
      "9663/9663 [==============================] - 9s 969us/step - loss: 15.8010 - mean_absolute_error: 3.0423\n",
      "Epoch 4/50\n",
      "9663/9663 [==============================] - 10s 1ms/step - loss: 15.7495 - mean_absolute_error: 3.0356\n",
      "Epoch 5/50\n",
      "9663/9663 [==============================] - 9s 972us/step - loss: 15.7231 - mean_absolute_error: 3.0334\n",
      "Epoch 6/50\n",
      "9663/9663 [==============================] - 9s 962us/step - loss: 15.7212 - mean_absolute_error: 3.0326\n",
      "Epoch 7/50\n",
      "9663/9663 [==============================] - 9s 977us/step - loss: 15.5974 - mean_absolute_error: 3.0210\n",
      "Epoch 8/50\n",
      "9663/9663 [==============================] - 9s 971us/step - loss: 15.3769 - mean_absolute_error: 3.0006\n",
      "Epoch 9/50\n",
      "9663/9663 [==============================] - 9s 967us/step - loss: 15.0590 - mean_absolute_error: 2.9702\n",
      "Epoch 10/50\n",
      "9663/9663 [==============================] - 9s 979us/step - loss: 14.7592 - mean_absolute_error: 2.9382\n",
      "Epoch 11/50\n",
      "9663/9663 [==============================] - 9s 966us/step - loss: 14.5707 - mean_absolute_error: 2.9158\n",
      "Epoch 12/50\n",
      "9663/9663 [==============================] - 10s 994us/step - loss: 14.4847 - mean_absolute_error: 2.9050\n",
      "Epoch 13/50\n",
      "9663/9663 [==============================] - 10s 987us/step - loss: 14.4103 - mean_absolute_error: 2.8954\n",
      "Epoch 14/50\n",
      "9663/9663 [==============================] - 9s 976us/step - loss: 14.3915 - mean_absolute_error: 2.8937\n",
      "Epoch 15/50\n",
      "9663/9663 [==============================] - 9s 968us/step - loss: 14.3490 - mean_absolute_error: 2.8879\n",
      "Epoch 16/50\n",
      "9663/9663 [==============================] - 10s 990us/step - loss: 14.3389 - mean_absolute_error: 2.8853\n",
      "Epoch 17/50\n",
      "9663/9663 [==============================] - 9s 976us/step - loss: 14.3010 - mean_absolute_error: 2.8814\n",
      "Epoch 18/50\n",
      "9663/9663 [==============================] - 10s 987us/step - loss: 14.3057 - mean_absolute_error: 2.8814\n",
      "Epoch 19/50\n",
      "9663/9663 [==============================] - 9s 964us/step - loss: 14.2857 - mean_absolute_error: 2.8793\n",
      "Epoch 20/50\n",
      "9663/9663 [==============================] - 9s 982us/step - loss: 14.2656 - mean_absolute_error: 2.8767\n",
      "Epoch 21/50\n",
      "9663/9663 [==============================] - 10s 1ms/step - loss: 14.2497 - mean_absolute_error: 2.8752\n",
      "Epoch 22/50\n",
      "9663/9663 [==============================] - 9s 963us/step - loss: 14.2412 - mean_absolute_error: 2.8742\n",
      "Epoch 23/50\n",
      "9663/9663 [==============================] - 9s 969us/step - loss: 14.2399 - mean_absolute_error: 2.8745\n",
      "Epoch 24/50\n",
      "9663/9663 [==============================] - 10s 989us/step - loss: 14.2319 - mean_absolute_error: 2.8734\n",
      "Epoch 25/50\n",
      "9663/9663 [==============================] - 10s 986us/step - loss: 14.2223 - mean_absolute_error: 2.8723\n",
      "Epoch 26/50\n",
      "9663/9663 [==============================] - 10s 988us/step - loss: 14.1888 - mean_absolute_error: 2.8690\n",
      "Epoch 27/50\n",
      "9663/9663 [==============================] - 10s 993us/step - loss: 14.1850 - mean_absolute_error: 2.8683\n",
      "Epoch 28/50\n",
      "9663/9663 [==============================] - 9s 976us/step - loss: 14.1759 - mean_absolute_error: 2.8681\n",
      "Epoch 29/50\n",
      "9663/9663 [==============================] - 9s 980us/step - loss: 14.1408 - mean_absolute_error: 2.8649\n",
      "Epoch 30/50\n",
      "9663/9663 [==============================] - 9s 974us/step - loss: 14.1167 - mean_absolute_error: 2.8615\n",
      "Epoch 31/50\n",
      "9663/9663 [==============================] - 10s 988us/step - loss: 14.0926 - mean_absolute_error: 2.8596\n",
      "Epoch 32/50\n",
      "9663/9663 [==============================] - 10s 1ms/step - loss: 14.0788 - mean_absolute_error: 2.8576\n",
      "Epoch 33/50\n",
      "9663/9663 [==============================] - 9s 979us/step - loss: 14.0493 - mean_absolute_error: 2.8541\n",
      "Epoch 34/50\n",
      "9663/9663 [==============================] - 9s 971us/step - loss: 14.0173 - mean_absolute_error: 2.8508\n",
      "Epoch 35/50\n",
      "9663/9663 [==============================] - 9s 974us/step - loss: 14.0074 - mean_absolute_error: 2.8495\n",
      "Epoch 36/50\n",
      "9663/9663 [==============================] - 9s 966us/step - loss: 13.9986 - mean_absolute_error: 2.8489\n",
      "Epoch 37/50\n",
      "9663/9663 [==============================] - 9s 964us/step - loss: 13.9885 - mean_absolute_error: 2.8473\n",
      "Epoch 38/50\n",
      "9663/9663 [==============================] - 10s 1ms/step - loss: 13.9730 - mean_absolute_error: 2.8454\n",
      "Epoch 39/50\n",
      "9663/9663 [==============================] - 10s 988us/step - loss: 13.9662 - mean_absolute_error: 2.8444\n",
      "Epoch 40/50\n",
      "9663/9663 [==============================] - 10s 1ms/step - loss: 13.9549 - mean_absolute_error: 2.8434\n",
      "Epoch 41/50\n",
      "9663/9663 [==============================] - 9s 965us/step - loss: 13.9522 - mean_absolute_error: 2.8428\n",
      "Epoch 42/50\n",
      "9663/9663 [==============================] - 9s 962us/step - loss: 13.9456 - mean_absolute_error: 2.8422\n",
      "Epoch 43/50\n",
      "9663/9663 [==============================] - 10s 992us/step - loss: 13.9290 - mean_absolute_error: 2.8399\n",
      "Epoch 44/50\n",
      "9663/9663 [==============================] - 9s 977us/step - loss: 13.9220 - mean_absolute_error: 2.8391\n",
      "Epoch 45/50\n",
      "9663/9663 [==============================] - 10s 1ms/step - loss: 13.9096 - mean_absolute_error: 2.8383\n",
      "Epoch 46/50\n",
      "9663/9663 [==============================] - 10s 990us/step - loss: 13.9197 - mean_absolute_error: 2.8395\n",
      "Epoch 47/50\n",
      "9663/9663 [==============================] - 9s 970us/step - loss: 13.9064 - mean_absolute_error: 2.8378\n",
      "Epoch 48/50\n",
      "9663/9663 [==============================] - 10s 1ms/step - loss: 13.9034 - mean_absolute_error: 2.8375\n",
      "Epoch 49/50\n",
      "9663/9663 [==============================] - 10s 1ms/step - loss: 13.9038 - mean_absolute_error: 2.8369\n",
      "Epoch 50/50\n",
      "9663/9663 [==============================] - 9s 964us/step - loss: 13.8925 - mean_absolute_error: 2.8362\n"
     ]
    }
   ],
   "source": [
    "history=model.fit(X_train, y_train,epochs=50)"
   ],
   "metadata": {
    "collapsed": false,
    "pycharm": {
     "name": "#%%\n"
    }
   }
  },
  {
   "cell_type": "code",
   "execution_count": 139,
   "outputs": [
    {
     "data": {
      "text/plain": "array([[[16.442287],\n        [16.487495]]], dtype=float32)"
     },
     "execution_count": 139,
     "metadata": {},
     "output_type": "execute_result"
    }
   ],
   "source": [
    "model.predict(np.array([18.99645, 129.95310])[np.newaxis])"
   ],
   "metadata": {
    "collapsed": false,
    "pycharm": {
     "name": "#%%\n"
    }
   }
  },
  {
   "cell_type": "code",
   "execution_count": 140,
   "outputs": [
    {
     "name": "stdout",
     "output_type": "stream",
     "text": [
      "TWS        18.99645\n",
      "adjTWA    129.95310\n",
      "Name: 321892, dtype: float64\n"
     ]
    },
    {
     "data": {
      "text/plain": "22.189999999999998"
     },
     "execution_count": 140,
     "metadata": {},
     "output_type": "execute_result"
    }
   ],
   "source": [
    "test=10\n",
    "print(X_val.iloc[test])\n",
    "y_val.iloc[test]"
   ],
   "metadata": {
    "collapsed": false,
    "pycharm": {
     "name": "#%%\n"
    }
   }
  },
  {
   "cell_type": "code",
   "execution_count": 141,
   "outputs": [],
   "source": [
    "pred=model.predict(X_val)"
   ],
   "metadata": {
    "collapsed": false,
    "pycharm": {
     "name": "#%%\n"
    }
   }
  },
  {
   "cell_type": "code",
   "execution_count": 142,
   "outputs": [
    {
     "data": {
      "text/plain": "             TWS     adjTWA\n456491  24.04735  146.49790\n225233  19.13085  110.21260\n321621  21.46890  129.91880\n217477  20.12584  107.90190\n230737  13.14903  111.65490\n...          ...        ...\n150261  24.43253   80.09602\n373486  19.26134  135.06650\n381556  17.78145  135.81810\n205488  20.00200  101.25240\n21961   22.64302   59.53987\n\n[77301 rows x 2 columns]",
      "text/html": "<div>\n<style scoped>\n    .dataframe tbody tr th:only-of-type {\n        vertical-align: middle;\n    }\n\n    .dataframe tbody tr th {\n        vertical-align: top;\n    }\n\n    .dataframe thead th {\n        text-align: right;\n    }\n</style>\n<table border=\"1\" class=\"dataframe\">\n  <thead>\n    <tr style=\"text-align: right;\">\n      <th></th>\n      <th>TWS</th>\n      <th>adjTWA</th>\n    </tr>\n  </thead>\n  <tbody>\n    <tr>\n      <th>456491</th>\n      <td>24.04735</td>\n      <td>146.49790</td>\n    </tr>\n    <tr>\n      <th>225233</th>\n      <td>19.13085</td>\n      <td>110.21260</td>\n    </tr>\n    <tr>\n      <th>321621</th>\n      <td>21.46890</td>\n      <td>129.91880</td>\n    </tr>\n    <tr>\n      <th>217477</th>\n      <td>20.12584</td>\n      <td>107.90190</td>\n    </tr>\n    <tr>\n      <th>230737</th>\n      <td>13.14903</td>\n      <td>111.65490</td>\n    </tr>\n    <tr>\n      <th>...</th>\n      <td>...</td>\n      <td>...</td>\n    </tr>\n    <tr>\n      <th>150261</th>\n      <td>24.43253</td>\n      <td>80.09602</td>\n    </tr>\n    <tr>\n      <th>373486</th>\n      <td>19.26134</td>\n      <td>135.06650</td>\n    </tr>\n    <tr>\n      <th>381556</th>\n      <td>17.78145</td>\n      <td>135.81810</td>\n    </tr>\n    <tr>\n      <th>205488</th>\n      <td>20.00200</td>\n      <td>101.25240</td>\n    </tr>\n    <tr>\n      <th>21961</th>\n      <td>22.64302</td>\n      <td>59.53987</td>\n    </tr>\n  </tbody>\n</table>\n<p>77301 rows × 2 columns</p>\n</div>"
     },
     "execution_count": 142,
     "metadata": {},
     "output_type": "execute_result"
    }
   ],
   "source": [
    "X_val"
   ],
   "metadata": {
    "collapsed": false,
    "pycharm": {
     "name": "#%%\n"
    }
   }
  },
  {
   "cell_type": "code",
   "execution_count": null,
   "outputs": [],
   "source": [],
   "metadata": {
    "collapsed": false,
    "pycharm": {
     "name": "#%%\n"
    }
   }
  }
 ],
 "metadata": {
  "kernelspec": {
   "display_name": "Python 3",
   "language": "python",
   "name": "python3"
  },
  "language_info": {
   "codemirror_mode": {
    "name": "ipython",
    "version": 2
   },
   "file_extension": ".py",
   "mimetype": "text/x-python",
   "name": "python",
   "nbconvert_exporter": "python",
   "pygments_lexer": "ipython2",
   "version": "2.7.6"
  }
 },
 "nbformat": 4,
 "nbformat_minor": 0
}